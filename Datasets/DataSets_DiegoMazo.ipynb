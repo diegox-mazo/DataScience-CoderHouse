{
  "nbformat": 4,
  "nbformat_minor": 0,
  "metadata": {
    "colab": {
      "provenance": []
    },
    "kernelspec": {
      "name": "python3",
      "display_name": "Python 3"
    },
    "language_info": {
      "name": "python"
    }
  },
  "cells": [
    {
      "cell_type": "markdown",
      "source": [
        "**OBJETIVO:**\n",
        "\n",
        "Se desea conocer cuales son los principales eventos adversos provocados por la vacunación contra el covit19 y cuál es su relación con el tipo de población al cual fue suministrada (edad, sexo, genero). Así de esta manera determinar, cuales son los grupos poblacionales mas afectados por efectos negativos a causa de la vacunación."
      ],
      "metadata": {
        "id": "mFwCcIpUxYms"
      }
    },
    {
      "cell_type": "code",
      "execution_count": 4,
      "metadata": {
        "id": "mSFaY7jvwN6h"
      },
      "outputs": [],
      "source": [
        "import pandas as pd\n",
        "import numpy as np"
      ]
    },
    {
      "cell_type": "code",
      "source": [
        "url_1 = '/DATASETS/2021VAERSDATA.csv'\n",
        "df_1 = pd.read_csv(url_1, index_col=0, encoding='latin-1')\n",
        "print(df_1.head)\n",
        "print(df_1.shape)"
      ],
      "metadata": {
        "colab": {
          "base_uri": "https://localhost:8080/"
        },
        "id": "zGt7PUI-zRSj",
        "outputId": "10fcec9b-42b1-4d75-ffd5-e9ab30e80eed"
      },
      "execution_count": 6,
      "outputs": [
        {
          "output_type": "stream",
          "name": "stdout",
          "text": [
            "<bound method NDFrame.head of             RECVDATE STATE  AGE_YRS  CAGE_YR  CAGE_MO SEX RPT_DATE  \\\n",
            "VAERS_ID                                                             \n",
            "916600    01/01/2021    TX     33.0     33.0      NaN   F      NaN   \n",
            "916601    01/01/2021    CA     73.0     73.0      NaN   F      NaN   \n",
            "916602    01/01/2021    WA     23.0     23.0      NaN   F      NaN   \n",
            "916603    01/01/2021    WA     58.0     58.0      NaN   F      NaN   \n",
            "916604    01/01/2021    TX     47.0     47.0      NaN   F      NaN   \n",
            "...              ...   ...      ...      ...      ...  ..      ...   \n",
            "1113917   03/19/2021    FL     88.0     87.0      NaN   F      NaN   \n",
            "1113920   03/19/2021    PA     83.0      NaN      NaN   F      NaN   \n",
            "1113963   03/19/2021    MS     59.0      NaN      NaN   F      NaN   \n",
            "1115045   03/19/2021    AZ     57.0      NaN      NaN   M      NaN   \n",
            "1115348   03/19/2021    NC      NaN     85.0      NaN   F      NaN   \n",
            "\n",
            "                                               SYMPTOM_TEXT DIED    DATEDIED  \\\n",
            "VAERS_ID                                                                       \n",
            "916600    Right side of epiglottis swelled up and hinder...  NaN         NaN   \n",
            "916601    Approximately 30 min post vaccination administ...  NaN         NaN   \n",
            "916602    About 15 minutes after receiving the vaccine, ...  NaN         NaN   \n",
            "916603    extreme fatigue, dizziness,. could not lift my...  NaN         NaN   \n",
            "916604    Injection site swelling, redness, warm to the ...  NaN         NaN   \n",
            "...                                                     ...  ...         ...   \n",
            "1113917   throat closure three weeks after second dose; ...  NaN         NaN   \n",
            "1113920   positive COVID-19 test with no symptoms; Asymp...  NaN         NaN   \n",
            "1113963   HLH (hemophagocyticlymphohistiocytosis); This ...    Y  02/15/2021   \n",
            "1115045   Death; A spontaneous report was received from ...    Y  03/02/2021   \n",
            "1115348   death; A spontaneous report was received from ...    Y  03/06/2021   \n",
            "\n",
            "          ...                                            CUR_ILL  \\\n",
            "VAERS_ID  ...                                                      \n",
            "916600    ...                                               None   \n",
            "916601    ...  Patient residing at nursing facility. See pati...   \n",
            "916602    ...                                               None   \n",
            "916603    ...                                   kidney infection   \n",
            "916604    ...                                                 Na   \n",
            "...       ...                                                ...   \n",
            "1113917   ...                                                NaN   \n",
            "1113920   ...                                                NaN   \n",
            "1113963   ...                                                NaN   \n",
            "1115045   ...                                                NaN   \n",
            "1115348   ...                                                NaN   \n",
            "\n",
            "                                                    HISTORY  \\\n",
            "VAERS_ID                                                      \n",
            "916600                                                 None   \n",
            "916601    Patient residing at nursing facility. See pati...   \n",
            "916602                                                 None   \n",
            "916603    diverticulitis, mitral valve prolapse, osteoar...   \n",
            "916604                                                  NaN   \n",
            "...                                                     ...   \n",
            "1113917   Medical History/Concurrent Conditions: Aortic ...   \n",
            "1113920   Medical History/Concurrent Conditions: Atrial ...   \n",
            "1113963   Medical History/Concurrent Conditions: Type II...   \n",
            "1115045   Medical History/Concurrent Conditions: No adve...   \n",
            "1115348   Comments: List of non-encoded Patient Relevant...   \n",
            "\n",
            "                                                  PRIOR_VAX  \\\n",
            "VAERS_ID                                                      \n",
            "916600                                                  NaN   \n",
            "916601                                                  NaN   \n",
            "916602                                                  NaN   \n",
            "916603    got measles from measel shot, mums from mumps ...   \n",
            "916604                                                  NaN   \n",
            "...                                                     ...   \n",
            "1113917                                                 NaN   \n",
            "1113920                                                 NaN   \n",
            "1113963                                                 NaN   \n",
            "1115045                                                 NaN   \n",
            "1115348                                                 NaN   \n",
            "\n",
            "                           SPLTTYPE FORM_VERS TODAYS_DATE BIRTH_DEFECT  \\\n",
            "VAERS_ID                                                                 \n",
            "916600                          NaN         2  01/01/2021          NaN   \n",
            "916601                          NaN         2  01/01/2021          NaN   \n",
            "916602                          NaN         2  01/01/2021          NaN   \n",
            "916603                          NaN         2  01/01/2021          NaN   \n",
            "916604                          NaN         2  01/01/2021          NaN   \n",
            "...                             ...       ...         ...          ...   \n",
            "1113917   USMODERNATX, INC.MOD20210         2  03/12/2021          NaN   \n",
            "1113920      USPFIZER INC2021231682         2  03/16/2021          NaN   \n",
            "1113963      USPFIZER INC2021257356         2  03/12/2021          NaN   \n",
            "1115045   USMODERNATX, INC.MOD20210         2  03/15/2021          NaN   \n",
            "1115348   USMODERNATX, INC.MOD20210         2  03/12/2021          NaN   \n",
            "\n",
            "         OFC_VISIT ER_ED_VISIT  \\\n",
            "VAERS_ID                         \n",
            "916600           Y         NaN   \n",
            "916601           Y         NaN   \n",
            "916602         NaN           Y   \n",
            "916603         NaN         NaN   \n",
            "916604         NaN         NaN   \n",
            "...            ...         ...   \n",
            "1113917        NaN           Y   \n",
            "1113920          Y         NaN   \n",
            "1113963        NaN         NaN   \n",
            "1115045        NaN         NaN   \n",
            "1115348        NaN         NaN   \n",
            "\n",
            "                                                  ALLERGIES  \n",
            "VAERS_ID                                                     \n",
            "916600                                    Pcn and bee venom  \n",
            "916601                                              \"Dairy\"  \n",
            "916602                                            Shellfish  \n",
            "916603    Diclofenac, novacaine, lidocaine, pickles, tom...  \n",
            "916604                                                   Na  \n",
            "...                                                     ...  \n",
            "1113917                                                 NaN  \n",
            "1113920                                                 NaN  \n",
            "1113963                                                 NaN  \n",
            "1115045                                                 NaN  \n",
            "1115348                                                 NaN  \n",
            "\n",
            "[34121 rows x 34 columns]>\n",
            "(34121, 34)\n"
          ]
        },
        {
          "output_type": "stream",
          "name": "stderr",
          "text": [
            "/usr/local/lib/python3.8/dist-packages/IPython/core/interactiveshell.py:3326: DtypeWarning: Columns (7,12,23) have mixed types.Specify dtype option on import or set low_memory=False.\n",
            "  exec(code_obj, self.user_global_ns, self.user_ns)\n"
          ]
        }
      ]
    },
    {
      "cell_type": "code",
      "source": [
        "url_2 = '/DATASETS/2021VAERSSYMPTOMS.csv'\n",
        "df_2 = pd.read_csv(url_2, index_col=0, encoding='latin-1')\n",
        "print(df_2.head)\n",
        "print(df_2.shape)"
      ],
      "metadata": {
        "colab": {
          "base_uri": "https://localhost:8080/"
        },
        "id": "4PYsWlVM3oji",
        "outputId": "9bd3e84f-c17e-400d-9e6e-a4950bcd66f1"
      },
      "execution_count": 7,
      "outputs": [
        {
          "output_type": "stream",
          "name": "stdout",
          "text": [
            "<bound method NDFrame.head of                                      SYMPTOM1  SYMPTOMVERSION1  \\\n",
            "VAERS_ID                                                         \n",
            "916600                              Dysphagia             23.1   \n",
            "916601                                Anxiety             23.1   \n",
            "916602                       Chest discomfort             23.1   \n",
            "916603                              Dizziness             23.1   \n",
            "916604                Injection site erythema             23.1   \n",
            "...                                       ...              ...   \n",
            "1113920                      Nasal discomfort             23.1   \n",
            "1113920                                  Rash             23.1   \n",
            "1113963   Haemophagocytic lymphohistiocytosis             23.1   \n",
            "1115045                                 Death             23.1   \n",
            "1115348                                 Death             23.1   \n",
            "\n",
            "                         SYMPTOM2  SYMPTOMVERSION2                 SYMPTOM3  \\\n",
            "VAERS_ID                                                                      \n",
            "916600               Epiglottitis             23.1                      NaN   \n",
            "916601                   Dyspnoea             23.1                      NaN   \n",
            "916602                  Dysphagia             23.1        Pain in extremity   \n",
            "916603                    Fatigue             23.1       Mobility decreased   \n",
            "916604    Injection site pruritus             23.1  Injection site swelling   \n",
            "...                           ...              ...                      ...   \n",
            "1113920              Night sweats             23.1           Platelet count   \n",
            "1113920           SARS-CoV-2 test             23.1                      NaN   \n",
            "1113963           SARS-CoV-2 test             23.1                      NaN   \n",
            "1115045                       NaN              NaN                      NaN   \n",
            "1115348                       NaN              NaN                      NaN   \n",
            "\n",
            "          SYMPTOMVERSION3                  SYMPTOM4  SYMPTOMVERSION4 SYMPTOM5  \\\n",
            "VAERS_ID                                                                        \n",
            "916600                NaN                       NaN              NaN      NaN   \n",
            "916601                NaN                       NaN              NaN      NaN   \n",
            "916602               23.1         Visual impairment             23.1      NaN   \n",
            "916603               23.1                       NaN              NaN      NaN   \n",
            "916604               23.1     Injection site warmth             23.1      NaN   \n",
            "...                   ...                       ...              ...      ...   \n",
            "1113920              23.1  Platelet count decreased             23.1  Pyrexia   \n",
            "1113920               NaN                       NaN              NaN      NaN   \n",
            "1113963               NaN                       NaN              NaN      NaN   \n",
            "1115045               NaN                       NaN              NaN      NaN   \n",
            "1115348               NaN                       NaN              NaN      NaN   \n",
            "\n",
            "          SYMPTOMVERSION5  \n",
            "VAERS_ID                   \n",
            "916600                NaN  \n",
            "916601                NaN  \n",
            "916602                NaN  \n",
            "916603                NaN  \n",
            "916604                NaN  \n",
            "...                   ...  \n",
            "1113920              23.1  \n",
            "1113920               NaN  \n",
            "1113963               NaN  \n",
            "1115045               NaN  \n",
            "1115348               NaN  \n",
            "\n",
            "[48110 rows x 10 columns]>\n",
            "(48110, 10)\n"
          ]
        }
      ]
    },
    {
      "cell_type": "code",
      "source": [
        "url_3 = '/DATASETS/2021VAERSVAX.csv'\n",
        "df_3 = pd.read_csv(url_3, index_col=0, encoding='latin-1')\n",
        "print(df_3.head)\n",
        "print(df_3.shape)"
      ],
      "metadata": {
        "colab": {
          "base_uri": "https://localhost:8080/"
        },
        "id": "vX9rxllC3xzQ",
        "outputId": "9e11c03e-a8e1-4676-d76e-de48e6142c98"
      },
      "execution_count": 8,
      "outputs": [
        {
          "output_type": "stream",
          "name": "stdout",
          "text": [
            "<bound method NDFrame.head of          VAX_TYPE         VAX_MANU  VAX_LOT VAX_DOSE_SERIES VAX_ROUTE  \\\n",
            "VAERS_ID                                                                \n",
            "916600    COVID19          MODERNA  037K20A               1        IM   \n",
            "916601    COVID19          MODERNA  025L20A               1        IM   \n",
            "916602    COVID19  PFIZER\\BIONTECH   EL1284               1        IM   \n",
            "916603    COVID19          MODERNA  unknown             UNK       NaN   \n",
            "916604    COVID19          MODERNA      NaN               1        IM   \n",
            "...           ...              ...      ...             ...       ...   \n",
            "1113917   COVID19          MODERNA   01120A               1        OT   \n",
            "1113920   COVID19  PFIZER\\BIONTECH  Unknown               1       NaN   \n",
            "1113963   COVID19  PFIZER\\BIONTECH   EL9264               2       NaN   \n",
            "1115045   COVID19          MODERNA      NaN               2        OT   \n",
            "1115348   COVID19          MODERNA  026A21A               1        OT   \n",
            "\n",
            "         VAX_SITE                             VAX_NAME  \n",
            "VAERS_ID                                                \n",
            "916600         LA          COVID19 (COVID19 (MODERNA))  \n",
            "916601         RA          COVID19 (COVID19 (MODERNA))  \n",
            "916602         LA  COVID19 (COVID19 (PFIZER-BIONTECH))  \n",
            "916603        NaN          COVID19 (COVID19 (MODERNA))  \n",
            "916604         LA          COVID19 (COVID19 (MODERNA))  \n",
            "...           ...                                  ...  \n",
            "1113917       NaN          COVID19 (COVID19 (MODERNA))  \n",
            "1113920       NaN  COVID19 (COVID19 (PFIZER-BIONTECH))  \n",
            "1113963       NaN  COVID19 (COVID19 (PFIZER-BIONTECH))  \n",
            "1115045       NaN          COVID19 (COVID19 (MODERNA))  \n",
            "1115348        LA          COVID19 (COVID19 (MODERNA))  \n",
            "\n",
            "[34630 rows x 7 columns]>\n",
            "(34630, 7)\n"
          ]
        }
      ]
    }
  ]
}